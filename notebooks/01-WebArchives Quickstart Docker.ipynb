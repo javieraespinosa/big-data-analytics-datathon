{
 "cells": [
  {
   "cell_type": "markdown",
   "metadata": {
    "id": "QtmXKFLETWzJ"
   },
   "source": [
    "# Exploration of WebArchives: Quickstart (Docker)"
   ]
  },
  {
   "cell_type": "markdown",
   "metadata": {
    "id": "R7kJ76-YTf4w"
   },
   "source": [
    "## ENV config\n",
    "\n",
    "Initialize spark in [single-node cluster](https://docs.databricks.com/clusters/single-node.html) with the AUT and GraphFrames libraries.\n"
   ]
  },
  {
   "cell_type": "code",
   "execution_count": null,
   "metadata": {},
   "outputs": [],
   "source": [
    "%run ../scripts/spark-init-docker.ipynb\n",
    "spark"
   ]
  },
  {
   "cell_type": "markdown",
   "metadata": {
    "id": "rqQYB4agUgE-"
   },
   "source": [
    "## LIFRANUM dataset\n",
    "\n",
    "WARC collections available in Google Cloud storage:\n",
    "\n",
    "| WARC collection | size |\n",
    "| --- | --- |\n",
    "| lifranum-method | 2.84 Gb\n",
    "| autres | 721 Mb\n",
    "| cartoweb | 336 Mb\n",
    "| repo-ecriture-num | 158 Mb\n",
    "\n",
    "> **Tip**:  \n",
    "> * Experiment with the smallest collection (`repo-ecritures-num`) first. Then move to bigger collections once your code is ready."
   ]
  },
  {
   "cell_type": "code",
   "execution_count": null,
   "metadata": {
    "id": "oWfGgoo9RyAq"
   },
   "outputs": [],
   "source": [
    "%%capture\n",
    "DIR=\"LIFRANUM\"\n",
    "!mkdir -p $DIR\n",
    "\n",
    "# --------------------------------------------------------\n",
    "# UNCOMMENT THE LINE(S) BELOW FOR DOWNLOADING \n",
    "# THE WARC COLLECTION(S) OF YOUR CHOICE\n",
    "# --------------------------------------------------------\n",
    "\n",
    "# !gsutil -m cp -r gs://cpe-lyon/LIFRANUM/autre $DIR\n",
    "# !gsutil -m cp -r gs://cpe-lyon/LIFRANUM/cartoweb $DIR\n",
    "# !gsutil -m cp -r gs://cpe-lyon/LIFRANUM/lifranum-method $DIR\n",
    "# !gsutil -m cp -r gs://cpe-lyon/LIFRANUM/repo-ecritures-num $DIR"
   ]
  },
  {
   "cell_type": "markdown",
   "metadata": {
    "id": "lx6QMk63ZQ6l"
   },
   "source": [
    "## Querying Web Archives\n",
    "\n",
    "Note:\n",
    "\n",
    "* **AUT generates dataframes**. See the [AUT dataframe schemas](https://aut.docs.archivesunleashed.org/docs/dataframe-schemas) for more info.\n",
    "* Check the [AUT documentation](https://aut.docs.archivesunleashed.org/docs/home) for more examples.\n",
    "\n"
   ]
  },
  {
   "cell_type": "code",
   "execution_count": null,
   "metadata": {
    "id": "AqK03RvuR_qS"
   },
   "outputs": [],
   "source": [
    "from aut import *\n",
    "\n",
    "\n",
    "# Read WARC file from the LIFRANUM folder\n",
    "WARCs_path = \"LIFRANUM/repo-ecritures-num/out-00000.warc.gz\"\n",
    "\n",
    "df = WebArchive(spark.sparkContext, sqlContext, WARCs_path)\n",
    "\n",
    "r = df.all().count()\n",
    "p = df.webpages().count()         # df.webpages() is an expensive operation!\n",
    "\n",
    "print(\"Number of registers:\", r)\n",
    "print(\"Number of pages:\",     p)"
   ]
  }
 ],
 "metadata": {
  "colab": {
   "provenance": []
  },
  "kernelspec": {
   "display_name": "Python 3 (ipykernel)",
   "language": "python",
   "name": "python3"
  },
  "language_info": {
   "codemirror_mode": {
    "name": "ipython",
    "version": 3
   },
   "file_extension": ".py",
   "mimetype": "text/x-python",
   "name": "python",
   "nbconvert_exporter": "python",
   "pygments_lexer": "ipython3",
   "version": "3.10.11"
  }
 },
 "nbformat": 4,
 "nbformat_minor": 4
}
