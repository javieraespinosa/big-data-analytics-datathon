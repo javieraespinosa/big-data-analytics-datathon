{
 "cells": [
  {
   "cell_type": "markdown",
   "metadata": {
    "id": "QtmXKFLETWzJ"
   },
   "source": [
    "# Exploring WebArchives using GraphFrames (Docker)"
   ]
  },
  {
   "cell_type": "markdown",
   "metadata": {
    "id": "R7kJ76-YTf4w"
   },
   "source": [
    "## ENV config\n",
    "\n",
    "Initialize spark in [single-node cluster](https://docs.databricks.com/clusters/single-node.html) with the AUT and GraphFrames libraries.\n"
   ]
  },
  {
   "cell_type": "code",
   "execution_count": null,
   "metadata": {},
   "outputs": [],
   "source": [
    "%run ../scripts/spark-init-docker.ipynb\n",
    "spark"
   ]
  },
  {
   "cell_type": "markdown",
   "metadata": {
    "id": "rqQYB4agUgE-"
   },
   "source": [
    "## LIFRANUM dataset"
   ]
  },
  {
   "cell_type": "code",
   "execution_count": null,
   "metadata": {
    "id": "oWfGgoo9RyAq"
   },
   "outputs": [],
   "source": [
    "%%capture\n",
    "DIR=\"LIFRANUM\"\n",
    "!mkdir -p $DIR\n",
    "\n",
    "# --------------------------------------------------------\n",
    "# UNCOMMENT THE LINE(S) BELOW FOR DOWNLOADING \n",
    "# THE WARC COLLECTION(S) OF YOUR CHOICE\n",
    "# --------------------------------------------------------\n",
    "\n",
    "# !gsutil -m cp -r gs://cpe-lyon/LIFRANUM/autre $DIR\n",
    "# !gsutil -m cp -r gs://cpe-lyon/LIFRANUM/cartoweb $DIR\n",
    "# !gsutil -m cp -r gs://cpe-lyon/LIFRANUM/lifranum-method $DIR\n",
    "# !gsutil -m cp -r gs://cpe-lyon/LIFRANUM/repo-ecritures-num $DIR"
   ]
  },
  {
   "cell_type": "markdown",
   "metadata": {
    "id": "lx6QMk63ZQ6l"
   },
   "source": [
    "## WebArchive links extraction\n",
    "\n",
    "Note:\n",
    "\n",
    "* **AUT generates dataframes**. See the [AUT dataframe schemas](https://aut.docs.archivesunleashed.org/docs/dataframe-schemas) for more info.\n",
    "* Check the [AUT documentation](https://aut.docs.archivesunleashed.org/docs/home) for more examples.\n",
    "\n"
   ]
  },
  {
   "cell_type": "code",
   "execution_count": null,
   "metadata": {
    "id": "AqK03RvuR_qS"
   },
   "outputs": [],
   "source": [
    "from aut import *\n",
    "from pyspark.sql.functions import col, udf\n",
    "from pyspark.sql.functions import desc, col, udf\n",
    "\n",
    "WARCs_path = \"LIFRANUM/repo-ecritures-num/out-00000.warc.gz\"\n",
    "\n",
    "# transform WARC(s) to a webgraph dataframe\n",
    "df = WebArchive(spark.sparkContext, sqlContext, WARCs_path)\\\n",
    "    .webgraph()\\\n",
    "    .withColumnRenamed(\"src\", \"orig\") # .limit(1000)\n",
    "\n",
    "df.show(10)"
   ]
  },
  {
   "cell_type": "markdown",
   "metadata": {},
   "source": [
    "## GraphFrame Generation"
   ]
  },
  {
   "cell_type": "code",
   "execution_count": null,
   "metadata": {},
   "outputs": [],
   "source": [
    "import tldextract\n",
    "\n",
    "@udf(\"string\")\n",
    "def extract_domain(s):\n",
    "    # return URL full qualified domain name\n",
    "    return tldextract.extract(s).fqdn   \n",
    "\n",
    "sqlContext.udf.register(\"extract_domain\", extract_domain)"
   ]
  },
  {
   "cell_type": "code",
   "execution_count": null,
   "metadata": {},
   "outputs": [],
   "source": [
    "df.createOrReplaceTempView(\"webgraph\")\n",
    "\n",
    "sql='''\n",
    "    SELECT src, dst, count(*) AS count\n",
    "    FROM (\n",
    "        SELECT extract_domain(orig) AS src,\n",
    "               extract_domain(dest) AS dst\n",
    "        FROM webgraph\n",
    "    )\n",
    "    WHERE src != \"\" AND dst != \"\"\n",
    "    GROUP BY src, dst\n",
    "'''\n",
    "\n",
    "edges = sqlContext.sql(sql)\n",
    "edges.cache()\n",
    "edges.show(10)\n",
    "\n",
    "edges.createOrReplaceTempView(\"edges\")\n",
    "\n",
    "sql='''\n",
    "    SELECT DISTINCT src as id\n",
    "    FROM   edges\n",
    "    UNION\n",
    "        SELECT dst\n",
    "        FROM   edges\n",
    "'''\n",
    "\n",
    "vertices = sqlContext.sql(sql)\n",
    "vertices.cache()\n",
    "vertices.show(10)"
   ]
  },
  {
   "cell_type": "code",
   "execution_count": null,
   "metadata": {},
   "outputs": [],
   "source": [
    "from graphframes import GraphFrame\n",
    "\n",
    "webGraph = GraphFrame(vertices, edges)\n",
    "webGraph.cache()\n",
    "\n",
    "print(\"Nodes: \" + str(webGraph.vertices.count()))\n",
    "print(\"Edges: \" + str(webGraph.edges.count()))"
   ]
  },
  {
   "cell_type": "code",
   "execution_count": null,
   "metadata": {},
   "outputs": [],
   "source": [
    "webGraph.inDegrees.orderBy(desc(\"inDegree\")).show(10, False)"
   ]
  },
  {
   "cell_type": "code",
   "execution_count": null,
   "metadata": {},
   "outputs": [],
   "source": [
    "webGraph.outDegrees.orderBy(desc(\"outDegree\")).show(10, False)"
   ]
  },
  {
   "cell_type": "code",
   "execution_count": null,
   "metadata": {},
   "outputs": [],
   "source": [
    "webGraph.degrees.orderBy(desc(\"degree\")).show(10, False)"
   ]
  },
  {
   "cell_type": "markdown",
   "metadata": {},
   "source": [
    "## Graph Visualization"
   ]
  },
  {
   "cell_type": "code",
   "execution_count": null,
   "metadata": {},
   "outputs": [],
   "source": [
    "import matplotlib.pyplot as plt\n",
    "import networkx as nx\n",
    "\n",
    "dfx = edges.limit(1000).sample(0.5)\n",
    "\n",
    "G = nx.from_pandas_edgelist(\n",
    "    dfx.toPandas(), \n",
    "    source=\"src\", \n",
    "    target=\"dst\", \n",
    "    edge_key=\"dst\", \n",
    "    edge_attr=\"count\"\n",
    ")"
   ]
  },
  {
   "cell_type": "code",
   "execution_count": null,
   "metadata": {
    "scrolled": true
   },
   "outputs": [],
   "source": [
    "from ipycytoscape import *\n",
    "\n",
    "cytoscapeobj = CytoscapeWidget()\n",
    "cytoscapeobj.graph.add_graph_from_networkx(G, directed=True)\n",
    "cytoscapeobj.set_style([\n",
    "    {\n",
    "        'selector': 'node',\n",
    "        'css': { \n",
    "            'content': 'data(id)'\n",
    "        } \n",
    "    }\n",
    "])\n",
    "\n",
    "# See https://blog.js.cytoscape.org/2020/05/11/layouts/\n",
    "cytoscapeobj.set_layout(name='concentric')\n",
    "cytoscapeobj"
   ]
  },
  {
   "cell_type": "markdown",
   "metadata": {},
   "source": [
    "## PageRank"
   ]
  },
  {
   "cell_type": "code",
   "execution_count": null,
   "metadata": {},
   "outputs": [],
   "source": [
    "ranks = webGraph.pageRank(\n",
    "    resetProbability=0.15,\n",
    "    maxIter=1\n",
    ")\n",
    "\n",
    "ranks.cache()"
   ]
  },
  {
   "cell_type": "code",
   "execution_count": null,
   "metadata": {},
   "outputs": [],
   "source": [
    "ranks.vertices\\\n",
    "    .orderBy(desc(\"pagerank\"))\\\n",
    "    .select(\"id\", \"pagerank\")\\\n",
    "    .show(10, False)"
   ]
  },
  {
   "cell_type": "markdown",
   "metadata": {},
   "source": [
    "## Community Detection"
   ]
  },
  {
   "cell_type": "code",
   "execution_count": null,
   "metadata": {},
   "outputs": [],
   "source": [
    "communities = webGraph.labelPropagation(maxIter=5).orderBy('label')\n",
    "communities.cache()"
   ]
  },
  {
   "cell_type": "code",
   "execution_count": null,
   "metadata": {},
   "outputs": [],
   "source": [
    "communities.show(10)"
   ]
  },
  {
   "cell_type": "code",
   "execution_count": null,
   "metadata": {},
   "outputs": [],
   "source": []
  }
 ],
 "metadata": {
  "colab": {
   "provenance": []
  },
  "kernelspec": {
   "display_name": "Python 3 (ipykernel)",
   "language": "python",
   "name": "python3"
  },
  "language_info": {
   "codemirror_mode": {
    "name": "ipython",
    "version": 3
   },
   "file_extension": ".py",
   "mimetype": "text/x-python",
   "name": "python",
   "nbconvert_exporter": "python",
   "pygments_lexer": "ipython3",
   "version": "3.10.11"
  }
 },
 "nbformat": 4,
 "nbformat_minor": 4
}
