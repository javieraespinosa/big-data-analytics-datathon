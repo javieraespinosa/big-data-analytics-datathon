{
 "cells": [
  {
   "cell_type": "markdown",
   "id": "1420759e-1fae-4625-a122-b1c54e367c74",
   "metadata": {},
   "source": [
    "### Spark init"
   ]
  },
  {
   "cell_type": "code",
   "execution_count": null,
   "id": "4492e2ac-2663-4926-9250-ec3117c2285b",
   "metadata": {},
   "outputs": [],
   "source": [
    "import os\n",
    "import findspark\n",
    "\n",
    "SPARK_DRIVER_MEMORY  = \"8g\"\n",
    "\n",
    "JARS     = !find \"$APPS_HOME\" -maxdepth 1 -iname \"*.jar\"\n",
    "PY_FILES = !find \"$APPS_HOME\" -maxdepth 1 -iname \"*.zip\"\n",
    "\n",
    "os.environ['PYSPARK_SUBMIT_ARGS'] = \"--driver-memory {} --jars {} --py-files {} pyspark-shell\".format(\n",
    "    SPARK_DRIVER_MEMORY, \n",
    "    \",\".join(JARS), \n",
    "    \",\".join(PY_FILES)\n",
    ")\n",
    "\n",
    "findspark.init()"
   ]
  },
  {
   "cell_type": "code",
   "execution_count": null,
   "id": "89ce1cb5-a312-4441-bc52-ed4594f7c3de",
   "metadata": {},
   "outputs": [],
   "source": [
    "from pyspark.sql import SparkSession\n",
    "from pyspark.sql import SQLContext\n",
    "\n",
    "spark = SparkSession.builder.master(\"local[*]\").getOrCreate()\n",
    "spark.sparkContext.setLogLevel(\"ERROR\")\n",
    "\n",
    "# Definition of variables for backward compability with the AUT toolkit\n",
    "sqlContext = SQLContext(spark.sparkContext, sparkSession=spark)\n",
    "sc = spark"
   ]
  }
 ],
 "metadata": {
  "kernelspec": {
   "display_name": "Python 3 (ipykernel)",
   "language": "python",
   "name": "python3"
  },
  "language_info": {
   "codemirror_mode": {
    "name": "ipython",
    "version": 3
   },
   "file_extension": ".py",
   "mimetype": "text/x-python",
   "name": "python",
   "nbconvert_exporter": "python",
   "pygments_lexer": "ipython3",
   "version": "3.10.11"
  }
 },
 "nbformat": 4,
 "nbformat_minor": 5
}
